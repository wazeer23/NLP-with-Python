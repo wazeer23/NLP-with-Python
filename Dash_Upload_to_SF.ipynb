{
  "nbformat": 4,
  "nbformat_minor": 0,
  "metadata": {
    "colab": {
      "name": "Dash-Upload to SF.ipynb",
      "provenance": [],
      "collapsed_sections": [],
      "authorship_tag": "ABX9TyMejyXRO2PI+Q26utX1/2e2",
      "include_colab_link": true
    },
    "kernelspec": {
      "name": "python3",
      "display_name": "Python 3"
    }
  },
  "cells": [
    {
      "cell_type": "markdown",
      "metadata": {
        "id": "view-in-github",
        "colab_type": "text"
      },
      "source": [
        "<a href=\"https://colab.research.google.com/github/wazeer23/NLP-with-Python/blob/master/Dash_Upload_to_SF.ipynb\" target=\"_parent\"><img src=\"https://colab.research.google.com/assets/colab-badge.svg\" alt=\"Open In Colab\"/></a>"
      ]
    },
    {
      "cell_type": "code",
      "metadata": {
        "id": "8fO0qxOZVS8M",
        "outputId": "144ddcbe-babd-43eb-a27b-4469e97322fb",
        "colab": {
          "base_uri": "https://localhost:8080/"
        }
      },
      "source": [
        "!pip install dash"
      ],
      "execution_count": 1,
      "outputs": [
        {
          "output_type": "stream",
          "text": [
            "Collecting dash\n",
            "\u001b[?25l  Downloading https://files.pythonhosted.org/packages/69/91/ae029886dda55b93b60ac04377bcb2ab9209dd73244e3b5e513124cc6778/dash-1.17.0.tar.gz (75kB)\n",
            "\r\u001b[K     |████▍                           | 10kB 17.3MB/s eta 0:00:01\r\u001b[K     |████████▊                       | 20kB 3.1MB/s eta 0:00:01\r\u001b[K     |█████████████                   | 30kB 3.8MB/s eta 0:00:01\r\u001b[K     |█████████████████▍              | 40kB 4.0MB/s eta 0:00:01\r\u001b[K     |█████████████████████▊          | 51kB 3.6MB/s eta 0:00:01\r\u001b[K     |██████████████████████████▏     | 61kB 3.9MB/s eta 0:00:01\r\u001b[K     |██████████████████████████████▌ | 71kB 4.3MB/s eta 0:00:01\r\u001b[K     |████████████████████████████████| 81kB 3.4MB/s \n",
            "\u001b[?25hRequirement already satisfied: Flask>=1.0.2 in /usr/local/lib/python3.6/dist-packages (from dash) (1.1.2)\n",
            "Collecting flask-compress\n",
            "  Downloading https://files.pythonhosted.org/packages/eb/33/7bcfc1d240bf4cf701cc742716a3af95b9df5b26d605559ea029b6ffa04f/Flask-Compress-1.8.0.tar.gz\n",
            "Requirement already satisfied: plotly in /usr/local/lib/python3.6/dist-packages (from dash) (4.4.1)\n",
            "Collecting dash_renderer==1.8.3\n",
            "\u001b[?25l  Downloading https://files.pythonhosted.org/packages/72/fe/59a322edb128ad15205002c7b81e3f5e580f6791c4a100183289e05dbfcb/dash_renderer-1.8.3.tar.gz (1.0MB)\n",
            "\u001b[K     |████████████████████████████████| 1.0MB 9.0MB/s \n",
            "\u001b[?25hCollecting dash-core-components==1.13.0\n",
            "\u001b[?25l  Downloading https://files.pythonhosted.org/packages/52/48/3dd8c7bf93cff3a9dd9d360bc25c4ec0cb191acdce13375c3ff85f98e992/dash_core_components-1.13.0.tar.gz (3.5MB)\n",
            "\u001b[K     |████████████████████████████████| 3.5MB 12.5MB/s \n",
            "\u001b[?25hCollecting dash-html-components==1.1.1\n",
            "\u001b[?25l  Downloading https://files.pythonhosted.org/packages/02/ba/bb9427c62feb25bfbaf243894eeeb4e7c67a92b426ed0575a167100e436e/dash_html_components-1.1.1.tar.gz (188kB)\n",
            "\u001b[K     |████████████████████████████████| 194kB 41.4MB/s \n",
            "\u001b[?25hCollecting dash-table==4.11.0\n",
            "\u001b[?25l  Downloading https://files.pythonhosted.org/packages/bb/46/cc839f897cabea3f584cf59ce9d86a5ea3828e54eefe2537ba8b640a9707/dash_table-4.11.0.tar.gz (1.8MB)\n",
            "\u001b[K     |████████████████████████████████| 1.8MB 43.0MB/s \n",
            "\u001b[?25hRequirement already satisfied: future in /usr/local/lib/python3.6/dist-packages (from dash) (0.16.0)\n",
            "Requirement already satisfied: Werkzeug>=0.15 in /usr/local/lib/python3.6/dist-packages (from Flask>=1.0.2->dash) (1.0.1)\n",
            "Requirement already satisfied: click>=5.1 in /usr/local/lib/python3.6/dist-packages (from Flask>=1.0.2->dash) (7.1.2)\n",
            "Requirement already satisfied: itsdangerous>=0.24 in /usr/local/lib/python3.6/dist-packages (from Flask>=1.0.2->dash) (1.1.0)\n",
            "Requirement already satisfied: Jinja2>=2.10.1 in /usr/local/lib/python3.6/dist-packages (from Flask>=1.0.2->dash) (2.11.2)\n",
            "Collecting brotli\n",
            "\u001b[?25l  Downloading https://files.pythonhosted.org/packages/b4/d3/7c98f05b7b9103e2f3a112ba42f269c798155b3e5404fb80bb8f823aaebe/Brotli-1.0.9-cp36-cp36m-manylinux1_x86_64.whl (357kB)\n",
            "\u001b[K     |████████████████████████████████| 358kB 43.2MB/s \n",
            "\u001b[?25hRequirement already satisfied: six in /usr/local/lib/python3.6/dist-packages (from plotly->dash) (1.15.0)\n",
            "Requirement already satisfied: retrying>=1.3.3 in /usr/local/lib/python3.6/dist-packages (from plotly->dash) (1.3.3)\n",
            "Requirement already satisfied: MarkupSafe>=0.23 in /usr/local/lib/python3.6/dist-packages (from Jinja2>=2.10.1->Flask>=1.0.2->dash) (1.1.1)\n",
            "Building wheels for collected packages: dash, flask-compress, dash-renderer, dash-core-components, dash-html-components, dash-table\n",
            "  Building wheel for dash (setup.py) ... \u001b[?25l\u001b[?25hdone\n",
            "  Created wheel for dash: filename=dash-1.17.0-cp36-none-any.whl size=83728 sha256=7e8e2f07e5865433c34bf06d92809af46cd919d9734015a54fef67c7d7bb9ba8\n",
            "  Stored in directory: /root/.cache/pip/wheels/e0/32/13/8a569b638a79cf80a4a721f56040d91198adec28e3bc8123fc\n",
            "  Building wheel for flask-compress (setup.py) ... \u001b[?25l\u001b[?25hdone\n",
            "  Created wheel for flask-compress: filename=Flask_Compress-1.8.0-cp36-none-any.whl size=7215 sha256=9644c69dd352f94ac3b5326cf307e95b11f9d10a994b5006602e57507a1adb59\n",
            "  Stored in directory: /root/.cache/pip/wheels/f9/aa/e9/c4b763ea17eb0662124f67924cbfb9ee0efa83e28f6131baec\n",
            "  Building wheel for dash-renderer (setup.py) ... \u001b[?25l\u001b[?25hdone\n",
            "  Created wheel for dash-renderer: filename=dash_renderer-1.8.3-cp36-none-any.whl size=1013944 sha256=5a778dd1686b92f3d3377ea48c91640ad73223a30e7b9365ff53abbaa60389e5\n",
            "  Stored in directory: /root/.cache/pip/wheels/cf/2b/5f/0928a6d1b7ebf280f21a2e925f36d662e6ba83e00b82c6b6bf\n",
            "  Building wheel for dash-core-components (setup.py) ... \u001b[?25l\u001b[?25hdone\n",
            "  Created wheel for dash-core-components: filename=dash_core_components-1.13.0-cp36-none-any.whl size=3513142 sha256=6c31336c188dd84b5f7b0a06662e36873b83f5757dc9595fc44a965b26ef56e3\n",
            "  Stored in directory: /root/.cache/pip/wheels/44/d9/90/177214625a5b5f6440b24ea807550e07fbf439a495eee4dd36\n",
            "  Building wheel for dash-html-components (setup.py) ... \u001b[?25l\u001b[?25hdone\n",
            "  Created wheel for dash-html-components: filename=dash_html_components-1.1.1-cp36-none-any.whl size=427894 sha256=47573adba1ab1339614fcb9dd5657ece28adac2a99a164228a1dd463fa5149e8\n",
            "  Stored in directory: /root/.cache/pip/wheels/8d/01/46/78e4de185a8a4a2da8ba31da16c52170f036d4cebeeb6e07a2\n",
            "  Building wheel for dash-table (setup.py) ... \u001b[?25l\u001b[?25hdone\n",
            "  Created wheel for dash-table: filename=dash_table-4.11.0-cp36-none-any.whl size=1839767 sha256=925ec2ef9b25e9cef117ae96e790875fdd07d6c3d4e5f4eab73561b1b702007e\n",
            "  Stored in directory: /root/.cache/pip/wheels/ca/37/90/bd45dcc5d6acbe6ac53f753a8f1732ecf5270017372e389cd8\n",
            "Successfully built dash flask-compress dash-renderer dash-core-components dash-html-components dash-table\n",
            "Installing collected packages: brotli, flask-compress, dash-renderer, dash-core-components, dash-html-components, dash-table, dash\n",
            "Successfully installed brotli-1.0.9 dash-1.17.0 dash-core-components-1.13.0 dash-html-components-1.1.1 dash-renderer-1.8.3 dash-table-4.11.0 flask-compress-1.8.0\n"
          ],
          "name": "stdout"
        }
      ]
    },
    {
      "cell_type": "code",
      "metadata": {
        "id": "LWk3OBVHVUok",
        "outputId": "678f0f4b-161f-4727-b37b-ff99eff4859b",
        "colab": {
          "base_uri": "https://localhost:8080/"
        }
      },
      "source": [
        "import dash\n",
        "import dash_table\n",
        "import dash_core_components as dcc\n",
        "import dash_html_components as html\n",
        "import pandas as pd\n",
        "# -*- coding: utf-8 -*-\n",
        "import dash\n",
        "import dash_html_components as html\n",
        "\n",
        "from dash.dependencies import Input, Output, State\n",
        "from dash_table import DataTable\n",
        "\n",
        "import pandas as pd\n",
        "\n",
        "d = {'col1': [1, 2], 'col2': [3, 4]}\n",
        "df = pd.DataFrame(data=d)\n",
        "\n",
        "app = dash.Dash(__name__)\n",
        "\n",
        "\n",
        "app.layout = html.Div([\n",
        "    html.P(html.Button('Refresh', id='refresh'))\n",
        "    ,html.P(html.Button('Save', id='save-button'))\n",
        "    ,html.P(id='save-button-hidden', style={'display':'none'})\n",
        "    ,html.P(html.Div(html.H3('Mapping File')))\n",
        "    ,dash_table.DataTable(\n",
        "    id='table'\n",
        "    ,columns=[{\"name\": i, \"id\": i} for i in df.columns]\n",
        "    ,fixed_rows={ 'headers': True, 'data': 0 }\n",
        "    ,data=df.to_dict('records')\n",
        "    ,editable = True\n",
        ")\n",
        "])\n",
        "\n",
        "@app.callback(Output('table', 'data'),\n",
        "              [Input('refresh', 'n_clicks')],\n",
        "              [State('input-1-state', 'value')\n",
        "               ])\n",
        "def update_data(n_clicks, subreddits):\n",
        "    dff = df\n",
        "    if subreddits is None:\n",
        "        subreddits = 'wallstreetbets'\n",
        "    else:\n",
        "        subreddits\n",
        "    if n_clicks is None:\n",
        "        raise PreventUpdate\n",
        "    else:\n",
        "        df2 = pd.read_csv('analyze.csv')\n",
        "        df2 = df2.head(10)\n",
        "        df2 = df2[['BALANCE']]\n",
        "    \n",
        "    return df2.to_dict('records')\n",
        "\n",
        "@app.callback(\n",
        "    Output('save-button-hidden', 'children'),\n",
        "    [Input('save-button', 'n_clicks'), Input('table', 'data')])\n",
        "def clicks(n_clicks, table_data):\n",
        "    if n_clicks > 0:\n",
        "        #df.to_csv('df.csv')\n",
        "        saved = pd.DataFrame.from_records(table_data)\n",
        "        saved.to_csv('df.csv', index=False)    \n",
        "            \n",
        "@app.callback(\n",
        "    dash.dependencies.Output('download-link', 'href'),\n",
        "    [dash.dependencies.Input('field-dropdown', 'value')])\n",
        "def update_download_link(filter_value):\n",
        "    dff = filter_data(filter_value)\n",
        "    csv_string = dff.to_csv(index=False, encoding='utf-8')\n",
        "    csv_string = \"data:text/csv;charset=utf-8,\" + urllib.quote(csv_string)\n",
        "    return csv_string\n",
        "\n",
        "\n",
        "if __name__ == \"__main__\":\n",
        "    app.run_server(debug=True, use_reloader=False)"
      ],
      "execution_count": null,
      "outputs": [
        {
          "output_type": "stream",
          "text": [
            "Dash is running on http://127.0.0.1:8050/\n",
            "\n",
            " * Serving Flask app \"__main__\" (lazy loading)\n",
            " * Environment: production\n",
            "\u001b[31m   WARNING: This is a development server. Do not use it in a production deployment.\u001b[0m\n",
            "\u001b[2m   Use a production WSGI server instead.\u001b[0m\n",
            " * Debug mode: on\n"
          ],
          "name": "stdout"
        }
      ]
    },
    {
      "cell_type": "code",
      "metadata": {
        "id": "rYRP_KsdVbDg"
      },
      "source": [
        ""
      ],
      "execution_count": null,
      "outputs": []
    }
  ]
}